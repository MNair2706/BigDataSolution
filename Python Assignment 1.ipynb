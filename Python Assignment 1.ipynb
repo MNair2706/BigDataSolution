{
 "cells": [
  {
   "cell_type": "markdown",
   "id": "9ae16c8b-eea0-45a2-9bc1-e54bbe40ad80",
   "metadata": {},
   "source": [
    "<b>Q1. Why do we call Python as a general purpose and high-level programming language?</b>"
   ]
  },
  {
   "cell_type": "markdown",
   "id": "a70055be-6769-4b1b-907a-da5dfcf8919a",
   "metadata": {},
   "source": [
    "Python can be used for solving a very wide range of different kinds of problems.It is not designed for a specific purpose but has been used for web-development,machine learning,NLP etc.Python is a versatile language that can be used for building a range of applications including web services, websites, and enterprise applications. Hence it is called a general purpose programming language.\n",
    "\n",
    "Python is a high level programming because its syntax so closely resembles the English language. Higher-level means it’s more readable to humans and less readable to computers. Likewise, Lower-level means less readable for humans and more readable for computers."
   ]
  },
  {
   "cell_type": "markdown",
   "id": "b0f8d1ce-cbaf-4e4e-a5cc-3ff612c35d59",
   "metadata": {},
   "source": [
    "<b>Q2. Why is Python called a dynamically typed language?</b>"
   ]
  },
  {
   "cell_type": "markdown",
   "id": "f1d134ae-132d-4306-8089-b719a8c79f92",
   "metadata": {},
   "source": [
    "Python is a dynamically typed language. It doesn’t know about the type of the variable until the code is run. So declaration is of no use. It stores that value at some memory location and then binds that variable name to that memory container. It then makes the contents of the container accessible through that variable name. So the data type does not matter. As it will get to know the type of the value at run-time."
   ]
  },
  {
   "cell_type": "markdown",
   "id": "26a2e684-bf4c-4de5-ab11-6ebc86be09c5",
   "metadata": {},
   "source": [
    "<b>Q3. List some pros and cons of Python programming language?</b>"
   ]
  },
  {
   "cell_type": "markdown",
   "id": "b2ae9331-34e6-4e62-ab1d-5f9b124118b0",
   "metadata": {},
   "source": [
    "Pros:\n",
    "- Easy to use and learn\n",
    "- Extensive Libraries\n",
    "- Extensible : Python can be extended to other languages. You can write some of your code in languages like C++ or C.\n",
    "- Embeddable : Complimentary to extensibility, Python is embeddable as well. You can put your Python code in your source code of a different language, like C++.\n",
    "- Free and Open Source\n",
    "- Interpreted : Since statements are executed one by one, debugging is easier than in compiled languages.\n",
    "\n",
    "Cons:\n",
    "- Speed Limitation ; Python code is executed line by line. But since Python is interpreted, it often results in slow execution.\n",
    "- Weak in Mobile Computing and Browsers\n",
    "- Database Access : The Python’s database access layer is primitive and underdeveloped in comparison to the popular technologies like JDBC and ODBC.\n",
    "- Run Time Errors : ython is a dynamically typed language so the data type of a variable can change anytime. A variable containing integer number may hold a string in the future, which can lead to Runtime Errors."
   ]
  },
  {
   "cell_type": "markdown",
   "id": "3ac127bd-d536-4ae9-829e-3e1ee0f0a045",
   "metadata": {},
   "source": [
    "<b>Q4. In what all domains can we use Python?</b>"
   ]
  },
  {
   "cell_type": "markdown",
   "id": "d2270ea4-7a34-412e-9f34-1a5bd124c41b",
   "metadata": {},
   "source": [
    "- Automation\n",
    "- Application Development\n",
    "- Web Development\n",
    "- AI & Machine Learning\n",
    "- Data Science\n",
    "- Console Applications\n",
    "- Data Analytics"
   ]
  },
  {
   "cell_type": "markdown",
   "id": "a1eecb49-1dce-47c6-9692-b5b134be299f",
   "metadata": {},
   "source": [
    "<b>Q5. What are variable and how can we declare them?</b>"
   ]
  },
  {
   "cell_type": "markdown",
   "id": "dff33697-d1f8-478a-a3ec-074028c2c695",
   "metadata": {},
   "source": [
    "Python Variable is containers which store values.A Python variable is a name given to a memory location. It is the basic unit of storage in a program. In Python variable are dynamically typed.\n",
    "Rules for creating variables in Python\n",
    "\n",
    "- A variable name must start with a letter or the underscore character.\n",
    "- A variable name cannot start with a number.\n",
    "- A variable name can only contain alpha-numeric characters and underscores (A-z, 0-9, and _ ).\n",
    "- Variable names are case-sensitive (name, Name and NAME are three different variables).\n",
    "- The reserved words(keywords) cannot be used naming the variable."
   ]
  },
  {
   "cell_type": "markdown",
   "id": "4a578d7f-4358-4fb0-9607-4afb14e7b44e",
   "metadata": {},
   "source": [
    "<b>Q6. How can we take an input from the user in Python?</b>"
   ]
  },
  {
   "cell_type": "markdown",
   "id": "8b069538-bee8-40d9-b428-48616a3137b7",
   "metadata": {},
   "source": [
    "Python input() function is used to take user input. By default, it returns the user input in form of a string."
   ]
  },
  {
   "cell_type": "markdown",
   "id": "4de7d0e5-0294-41aa-93f4-fc85dd9a84fc",
   "metadata": {},
   "source": [
    "<b>Q7. What is the default datatype of the value that has been taken as an input using input() function?</b>"
   ]
  },
  {
   "cell_type": "markdown",
   "id": "635e8dd8-5228-472a-b87b-b8c61372275f",
   "metadata": {},
   "source": [
    "By default, it returns the user input in form of a string."
   ]
  },
  {
   "cell_type": "markdown",
   "id": "510b4697-c59d-4540-8c6b-8ad75850653f",
   "metadata": {},
   "source": [
    "<b>Q8. What is type casting?</b>"
   ]
  },
  {
   "cell_type": "markdown",
   "id": "4b746fd8-fe51-43df-8c89-0ce53f6fa8f8",
   "metadata": {},
   "source": [
    "Type Casting is the method to convert the variable data type into a certain data type in order to the operation required to be performed by users. There are 2 types of type casting\n",
    "- Implicit Type Casting :  automatic type conversion\n",
    "- Explicit Type Casting : manual type conversion\n",
    "\n",
    "Implicit Type Casting : Python always converts smaller data types to larger data types to avoid the loss of data. Example if you add a float value to an integer value the output is float.\n",
    "\n",
    "Explicit Type Casting: In Explicit Type Conversion, users convert the data type of an object to required data type.We use the built-in functions like int(), float(), str(), etc to perform explicit type conversion.\n",
    "\n"
   ]
  },
  {
   "cell_type": "markdown",
   "id": "1ee107f8-7e23-4c8c-a8f3-ae955388e5a6",
   "metadata": {},
   "source": [
    "<b>Q9. Can we take more than one input from the user using single input() function? If yes, how? If no, why?</b>"
   ]
  },
  {
   "cell_type": "markdown",
   "id": "1f7f6fb1-3f9f-460f-8746-3e3a64e2c004",
   "metadata": {},
   "source": [
    "Yes we can use split() to get multiple inputs from user. By default split() uses spaces as the delimiter for segregating the values. The values will be populated as lists"
   ]
  },
  {
   "cell_type": "code",
   "execution_count": 11,
   "id": "7a5f32c1-fe81-406c-a58f-41d972e64f0f",
   "metadata": {},
   "outputs": [
    {
     "name": "stdin",
     "output_type": "stream",
     "text": [
      " 10 20 30\n"
     ]
    },
    {
     "name": "stdout",
     "output_type": "stream",
     "text": [
      "['10', '20', '30']\n"
     ]
    }
   ],
   "source": [
    "x = input().split()\n",
    "print(x)"
   ]
  },
  {
   "cell_type": "markdown",
   "id": "5179afd0-2894-4c5b-9597-5cfb948635f1",
   "metadata": {},
   "source": [
    "<b>Q10. What are keywords?</b>"
   ]
  },
  {
   "cell_type": "markdown",
   "id": "b54c0bfc-79ae-4639-a6e6-0e02a0d8974c",
   "metadata": {},
   "source": [
    "Python keywords are special reserved words that have specific meanings and purposes and can’t be used for anything but those specific purposes. These keywords are always available and never have to import them into your code."
   ]
  },
  {
   "cell_type": "markdown",
   "id": "d182a83a-663f-4c77-9473-bfc28b6562e3",
   "metadata": {},
   "source": [
    "<b>Q11. Can we use keywords as a variable? Support your answer with reason.</b>"
   ]
  },
  {
   "cell_type": "markdown",
   "id": "bf514248-0e88-4e98-82a3-b1cd1d3a0cc0",
   "metadata": {},
   "source": [
    "We cannot use a keyword as a variable name, function name, or any other identifier. They are used to define the syntax and structure of the Python language. All the keywords except True , False and None are in lowercase and they must be written as they are."
   ]
  },
  {
   "cell_type": "markdown",
   "id": "b46bf8e2-20fa-49c2-8145-7ac4abc80332",
   "metadata": {},
   "source": [
    "<b>Q12. What is indentation? What's the use of indentaion in Python?</b>"
   ]
  },
  {
   "cell_type": "markdown",
   "id": "5f91659f-a337-46ce-95c1-e03a139a0bd5",
   "metadata": {},
   "source": [
    "Indentation refers to the spaces at the beginning of a code line.Python uses indentation to indicate a block of code."
   ]
  },
  {
   "cell_type": "markdown",
   "id": "580d554c-960c-459b-b5fe-97857edc3e8f",
   "metadata": {},
   "source": [
    "<b>Q13. How can we throw some output in Python?</b>"
   ]
  },
  {
   "cell_type": "markdown",
   "id": "03fbb579-1552-48b0-bfe0-f5e46752adc1",
   "metadata": {},
   "source": [
    "Python provides the print() function to display output to the standard output devices. "
   ]
  },
  {
   "cell_type": "markdown",
   "id": "4410ab70-dd0d-4799-be09-97e78a79db97",
   "metadata": {},
   "source": [
    "<b>Q14. What are operators in Python?</b>"
   ]
  },
  {
   "cell_type": "markdown",
   "id": "be4563b0-171a-4cb8-bcde-d7a4f8264452",
   "metadata": {},
   "source": [
    "- Arithmetic Operators : = - * / % // **\n",
    "- Comparison Operators : > < >= <= == != '\n",
    "- Logical Operators : and or not\n",
    "- Bitwise Operators : & | ~ ^ >> <<\n",
    "- Assignment Operators : = += -= *= /= %= //= **= &= |= ^= >>= <<=\n",
    "- Identity Operators : is,is not\n",
    "- Membership Operators: in,not in"
   ]
  },
  {
   "cell_type": "markdown",
   "id": "fe29ebc5-36f4-4e38-8024-f770d2464bed",
   "metadata": {},
   "source": [
    "<b>Q15. What is difference between / and // operators?</b>"
   ]
  },
  {
   "cell_type": "markdown",
   "id": "0ff7adc4-78b8-4587-b297-6b6f5e5de49d",
   "metadata": {},
   "source": [
    "/ is used for normal division and returns a float number,\n",
    "// floor division and returns an integer"
   ]
  },
  {
   "cell_type": "code",
   "execution_count": 1,
   "id": "4abdc8a7-0b65-4fd4-a6ca-7d345c0c91e5",
   "metadata": {},
   "outputs": [
    {
     "data": {
      "text/plain": [
       "3.0"
      ]
     },
     "execution_count": 1,
     "metadata": {},
     "output_type": "execute_result"
    }
   ],
   "source": [
    "12/4"
   ]
  },
  {
   "cell_type": "code",
   "execution_count": 3,
   "id": "d3641200-368d-411b-8d41-7f3679e1a030",
   "metadata": {},
   "outputs": [
    {
     "data": {
      "text/plain": [
       "1"
      ]
     },
     "execution_count": 3,
     "metadata": {},
     "output_type": "execute_result"
    }
   ],
   "source": [
    "5//3"
   ]
  },
  {
   "cell_type": "markdown",
   "id": "94059dec-ca86-47a8-8184-6987ca82ad8d",
   "metadata": {},
   "source": [
    "<b>Q16. Write a code that gives following as an output.</b>\n",
    "```\n",
    "iNeuroniNeuroniNeuroniNeuron\n",
    "```"
   ]
  },
  {
   "cell_type": "code",
   "execution_count": 4,
   "id": "ea37c4c5-ceca-4733-97c1-c696c8368411",
   "metadata": {},
   "outputs": [
    {
     "name": "stdout",
     "output_type": "stream",
     "text": [
      "iNeuroniNeuroniNeuroniNeuron\n"
     ]
    }
   ],
   "source": [
    "print(\"iNeuron\"*4)"
   ]
  },
  {
   "cell_type": "markdown",
   "id": "b9abe535-9336-4666-8c6b-c469894cf5dd",
   "metadata": {},
   "source": [
    "<b>Q17. Write a code to take a number as an input from the user and check if the number is odd or even.</b>"
   ]
  },
  {
   "cell_type": "code",
   "execution_count": 6,
   "id": "f096ca98-3100-4367-950d-a6b24ea72c55",
   "metadata": {},
   "outputs": [
    {
     "name": "stdin",
     "output_type": "stream",
     "text": [
      "Enter the number:  14\n"
     ]
    },
    {
     "name": "stdout",
     "output_type": "stream",
     "text": [
      "14  is an Even Number\n"
     ]
    }
   ],
   "source": [
    "num = int(input(\"Enter the number: \"))\n",
    "if num%2 == 0:\n",
    "    print(num,\" is an Even Number\")\n",
    "else:\n",
    "    print(num,\" is an Odd Number\")"
   ]
  },
  {
   "cell_type": "markdown",
   "id": "88c189bb-12b5-43bf-b1d0-5aff1236f009",
   "metadata": {},
   "source": [
    "<b>Q18. What are boolean operator?</b>"
   ]
  },
  {
   "cell_type": "markdown",
   "id": "b3ba3804-2967-4395-98ec-fb5bbdb3e7a4",
   "metadata": {},
   "source": [
    "True and False are 2 Boolean operators in Python."
   ]
  },
  {
   "cell_type": "markdown",
   "id": "2e60814f-4c10-4b1f-a0fe-cdc3722565d2",
   "metadata": {},
   "source": [
    "<b>Q19. What will the output of the following?</b>\n",
    "```\n",
    "1 or 0\n",
    "\n",
    "0 and 0\n",
    "\n",
    "True and False and True\n",
    "\n",
    "1 or 0 or 0\n",
    "```"
   ]
  },
  {
   "cell_type": "code",
   "execution_count": 8,
   "id": "4ca4117b-5606-49c3-83f3-0a1d703fae2b",
   "metadata": {},
   "outputs": [
    {
     "data": {
      "text/plain": [
       "1"
      ]
     },
     "execution_count": 8,
     "metadata": {},
     "output_type": "execute_result"
    }
   ],
   "source": [
    "1 or 0"
   ]
  },
  {
   "cell_type": "code",
   "execution_count": 9,
   "id": "47b729c9-ae90-440d-8f8b-e69fdf4a5b93",
   "metadata": {},
   "outputs": [
    {
     "data": {
      "text/plain": [
       "0"
      ]
     },
     "execution_count": 9,
     "metadata": {},
     "output_type": "execute_result"
    }
   ],
   "source": [
    "0 and 0"
   ]
  },
  {
   "cell_type": "code",
   "execution_count": 10,
   "id": "77ab2115-73c4-44f7-867b-f6063721fa0f",
   "metadata": {},
   "outputs": [
    {
     "data": {
      "text/plain": [
       "False"
      ]
     },
     "execution_count": 10,
     "metadata": {},
     "output_type": "execute_result"
    }
   ],
   "source": [
    "True and False and True"
   ]
  },
  {
   "cell_type": "code",
   "execution_count": 11,
   "id": "d80645f9-31a3-4707-b8bc-6507f56f6bd8",
   "metadata": {},
   "outputs": [
    {
     "data": {
      "text/plain": [
       "1"
      ]
     },
     "execution_count": 11,
     "metadata": {},
     "output_type": "execute_result"
    }
   ],
   "source": [
    "1 or 0 or 0"
   ]
  },
  {
   "cell_type": "markdown",
   "id": "81f78582-3bee-4e7a-af5f-0e84b063e3d5",
   "metadata": {},
   "source": [
    "<b>Q20. What are conditional statements in Python?</b>"
   ]
  },
  {
   "cell_type": "markdown",
   "id": "e893dedf-8350-412c-aa86-97198777ccfd",
   "metadata": {},
   "source": [
    "A conditional statement is used to handle conditions in your program. These statements guide the program while making decisions based on the conditions encountered by the program.\n",
    "\n",
    "Python has 3 key Conditional Statements they are:\n",
    "\n",
    "    if statement\n",
    "    if-else statement\n",
    "    if-elif-else ladder\n"
   ]
  },
  {
   "cell_type": "markdown",
   "id": "0cc48392-0ea2-47e1-a833-7ff0afa4561a",
   "metadata": {},
   "source": [
    "<b>Q21. What is use of 'if', 'elif' and 'else' keywords?</b>"
   ]
  },
  {
   "cell_type": "markdown",
   "id": "035f8169-504a-4d40-adcb-f4d89e30455e",
   "metadata": {},
   "source": [
    "if…elif…else are conditional statements that provide you with the decision making that is required when you want to execute code based on a particular condition.The if…elif…else statement used in Python helps automate that decision making process."
   ]
  },
  {
   "cell_type": "markdown",
   "id": "f4c96a79-829a-4f5f-b0b9-7a0a7f7e9183",
   "metadata": {},
   "source": [
    "Q<b>22. Write a code to take the age of person as an input and if age >= 18 display \"I can vote\". If age is < 18 display \"I can't vote\".</b>\n"
   ]
  },
  {
   "cell_type": "code",
   "execution_count": 19,
   "id": "5a5e078f-70b1-4c2f-b04c-4d921569e0ee",
   "metadata": {},
   "outputs": [
    {
     "name": "stdin",
     "output_type": "stream",
     "text": [
      "Enter your age: 34\n"
     ]
    },
    {
     "name": "stdout",
     "output_type": "stream",
     "text": [
      "I can Vote\n"
     ]
    }
   ],
   "source": [
    "age = int(input(\"Enter your age:\"))\n",
    "if age>=18:\n",
    "    print(\"I can Vote\")\n",
    "else:\n",
    "    print(\"I can't Vote\")"
   ]
  },
  {
   "cell_type": "markdown",
   "id": "824ebbd4-d03e-45a8-8fbb-cf11ce489632",
   "metadata": {},
   "source": [
    "<b>Q23. Write a code that displays the sum of all the even numbers from the given list.</b>\n",
    "```\n",
    "numbers = [12, 75, 150, 180, 145, 525, 50]\n",
    "```"
   ]
  },
  {
   "cell_type": "code",
   "execution_count": 5,
   "id": "b0dc8089-c766-4efa-b027-4c9648464200",
   "metadata": {},
   "outputs": [
    {
     "name": "stdout",
     "output_type": "stream",
     "text": [
      "Sum of even numbers from the list is : 392\n"
     ]
    }
   ],
   "source": [
    "numbers = [12, 75, 150, 180, 145, 525, 50]\n",
    "sum_nums=0\n",
    "for x in numbers:\n",
    "    if x%2==0:\n",
    "        sum_nums+=x\n",
    "print(\"Sum of even numbers from the list is :\",sum_nums)"
   ]
  },
  {
   "cell_type": "markdown",
   "id": "41385618-d193-4c99-a86d-c281f1db2481",
   "metadata": {},
   "source": [
    "<b>Q24. Write a code to take 3 numbers as an input from the user and display the greatest no as output.</b>"
   ]
  },
  {
   "cell_type": "code",
   "execution_count": 10,
   "id": "567282c8-8bd0-4b80-904b-0b4b80b5f853",
   "metadata": {},
   "outputs": [
    {
     "name": "stdin",
     "output_type": "stream",
     "text": [
      "Enter the first number 100\n",
      "Enter the second number 200\n",
      "Enter the third number 1\n"
     ]
    },
    {
     "name": "stdout",
     "output_type": "stream",
     "text": [
      "Greatest number is : 200\n"
     ]
    }
   ],
   "source": [
    "num1 = int(input('Enter the first number'))\n",
    "num2 = int(input('Enter the second number'))\n",
    "num3 = int(input('Enter the third number'))\n",
    "max_num = num1\n",
    "if (num2>num1) and (num2>num3):\n",
    "    max_num = num2\n",
    "elif (num3>num1) and (num3>num1):\n",
    "    max_num = num3\n",
    "else:\n",
    "    max_num = num1\n",
    "print(\"Greatest number is :\",max_num)"
   ]
  },
  {
   "cell_type": "markdown",
   "id": "e6e8e2ee-a734-45b3-80db-4dfa3bb61394",
   "metadata": {},
   "source": [
    "<b>Q25. Write a program to display only those numbers from a list that satisfy the following conditions</b>\n",
    "\n",
    "- The number must be divisible by five\n",
    "\n",
    "- If the number is greater than 150, then skip it and move to the next number\n",
    "\n",
    "- If the number is greater than 500, then stop the loop\n",
    "```\n",
    "numbers = [12, 75, 150, 180, 145, 525, 50]\n",
    "```"
   ]
  },
  {
   "cell_type": "code",
   "execution_count": 15,
   "id": "c61d3b9d-8866-4654-a40c-9072325187ea",
   "metadata": {},
   "outputs": [
    {
     "name": "stdout",
     "output_type": "stream",
     "text": [
      "[75, 150, 145]\n"
     ]
    }
   ],
   "source": [
    "numbers = [12, 75, 150, 180, 145, 525, 50]\n",
    "output = []\n",
    "for x in numbers:\n",
    "    if x > 150:\n",
    "        if x > 500:\n",
    "            break\n",
    "        continue\n",
    "    if x % 5 == 0:\n",
    "        output.append(x)\n",
    "print(output)"
   ]
  }
 ],
 "metadata": {
  "kernelspec": {
   "display_name": "Python 3 (ipykernel)",
   "language": "python",
   "name": "python3"
  },
  "language_info": {
   "codemirror_mode": {
    "name": "ipython",
    "version": 3
   },
   "file_extension": ".py",
   "mimetype": "text/x-python",
   "name": "python",
   "nbconvert_exporter": "python",
   "pygments_lexer": "ipython3",
   "version": "3.10.6"
  }
 },
 "nbformat": 4,
 "nbformat_minor": 5
}
